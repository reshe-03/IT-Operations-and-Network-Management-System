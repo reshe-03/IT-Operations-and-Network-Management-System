{
  "nbformat": 4,
  "nbformat_minor": 0,
  "metadata": {
    "colab": {
      "provenance": [],
      "include_colab_link": true
    },
    "kernelspec": {
      "name": "python3",
      "display_name": "Python 3"
    },
    "language_info": {
      "name": "python"
    }
  },
  "cells": [
    {
      "cell_type": "markdown",
      "metadata": {
        "id": "view-in-github",
        "colab_type": "text"
      },
      "source": [
        "<a href=\"https://colab.research.google.com/github/reshe-03/IT-Operations-and-Network-Management-System/blob/main/Untitled33.ipynb\" target=\"_parent\"><img src=\"https://colab.research.google.com/assets/colab-badge.svg\" alt=\"Open In Colab\"/></a>"
      ]
    },
    {
      "cell_type": "code",
      "execution_count": null,
      "metadata": {
        "id": "L26tEavwTMOD"
      },
      "outputs": [],
      "source": [
        "import pandas as pd\n",
        "from sklearn.preprocessing import StandardScaler\n",
        "\n",
        "# Load historical IT data\n",
        "data = pd.read_csv('trial.csv')\n",
        "\n",
        "# Preprocess data\n",
        "scaler = StandardScaler()\n",
        "data_scaled = scaler.fit_transform(data.drop('issue', axis=1))\n",
        "\n",
        "# Save preprocessed data\n",
        "pd.DataFrame(data_scaled, columns=data.columns[:-1]).to_csv('preprocessed_it_data.csv', index=False)\n"
      ]
    },
    {
      "cell_type": "code",
      "source": [
        "import pandas as pd\n",
        "import numpy as np\n",
        "from sklearn.model_selection import train_test_split\n",
        "from sklearn.preprocessing import StandardScaler\n",
        "from tensorflow.keras.models import Sequential\n",
        "from tensorflow.keras.layers import Dense, Dropout\n",
        "from tensorflow.keras.optimizers import Adam\n",
        "from sklearn.metrics import accuracy_score, classification_report, confusion_matrix\n",
        "\n",
        "# Load preprocessed data\n",
        "data = pd.read_csv('preprocessed_it_data.csv')\n",
        "labels = pd.read_csv('trial.csv')['issue']\n",
        "\n",
        "# Split data into training and testing sets\n",
        "X_train, X_test, y_train, y_test = train_test_split(data, labels, test_size=0.2, random_state=42)\n",
        "\n",
        "# Build the neural network model\n",
        "model = Sequential([\n",
        "    Dense(64, activation='relu', input_shape=(X_train.shape[1],)),\n",
        "    Dropout(0.2),\n",
        "    Dense(32, activation='relu'),\n",
        "    Dropout(0.2),\n",
        "    Dense(1, activation='sigmoid')\n",
        "])\n",
        "\n",
        "# Compile the model\n",
        "model.compile(optimizer=Adam(learning_rate=0.001), loss='binary_crossentropy', metrics=['accuracy'])\n",
        "\n",
        "# Train the model\n",
        "history = model.fit(X_train, y_train, epochs=50, batch_size=32, validation_data=(X_test, y_test), verbose=1)\n",
        "\n",
        "# Evaluate the model\n",
        "y_pred = (model.predict(X_test) > 0.5).astype(\"int32\")\n",
        "\n",
        "# Evaluate accuracy\n",
        "accuracy = accuracy_score(y_test, y_pred)\n",
        "print(f'Accuracy: {accuracy:.2f}')\n",
        "\n",
        "# Print classification report\n",
        "print(classification_report(y_test, y_pred))\n",
        "\n",
        "# Print confusion matrix\n",
        "print('Confusion Matrix:')\n",
        "print(confusion_matrix(y_test, y_pred))\n"
      ],
      "metadata": {
        "colab": {
          "base_uri": "https://localhost:8080/"
        },
        "id": "pRvNagVITl-e",
        "outputId": "4979a536-4686-4580-a931-49194b33c640"
      },
      "execution_count": null,
      "outputs": [
        {
          "output_type": "stream",
          "name": "stdout",
          "text": [
            "Epoch 1/50\n",
            "2/2 [==============================] - 1s 356ms/step - loss: 0.7080 - accuracy: 0.4531 - val_loss: 0.6744 - val_accuracy: 0.6250\n",
            "Epoch 2/50\n",
            "2/2 [==============================] - 0s 56ms/step - loss: 0.6989 - accuracy: 0.5000 - val_loss: 0.6760 - val_accuracy: 0.5625\n",
            "Epoch 3/50\n",
            "2/2 [==============================] - 0s 60ms/step - loss: 0.6956 - accuracy: 0.5625 - val_loss: 0.6771 - val_accuracy: 0.6250\n",
            "Epoch 4/50\n",
            "2/2 [==============================] - 0s 46ms/step - loss: 0.6918 - accuracy: 0.5625 - val_loss: 0.6786 - val_accuracy: 0.5625\n",
            "Epoch 5/50\n",
            "2/2 [==============================] - 0s 61ms/step - loss: 0.6937 - accuracy: 0.4844 - val_loss: 0.6804 - val_accuracy: 0.5625\n",
            "Epoch 6/50\n",
            "2/2 [==============================] - 0s 67ms/step - loss: 0.6825 - accuracy: 0.6250 - val_loss: 0.6813 - val_accuracy: 0.5625\n",
            "Epoch 7/50\n",
            "2/2 [==============================] - 0s 52ms/step - loss: 0.6769 - accuracy: 0.5625 - val_loss: 0.6829 - val_accuracy: 0.5000\n",
            "Epoch 8/50\n",
            "2/2 [==============================] - 0s 46ms/step - loss: 0.6787 - accuracy: 0.6406 - val_loss: 0.6843 - val_accuracy: 0.5000\n",
            "Epoch 9/50\n",
            "2/2 [==============================] - 0s 61ms/step - loss: 0.6865 - accuracy: 0.5781 - val_loss: 0.6864 - val_accuracy: 0.5000\n",
            "Epoch 10/50\n",
            "2/2 [==============================] - 0s 60ms/step - loss: 0.6598 - accuracy: 0.5625 - val_loss: 0.6883 - val_accuracy: 0.5000\n",
            "Epoch 11/50\n",
            "2/2 [==============================] - 0s 67ms/step - loss: 0.6707 - accuracy: 0.5938 - val_loss: 0.6898 - val_accuracy: 0.5000\n",
            "Epoch 12/50\n",
            "2/2 [==============================] - 0s 67ms/step - loss: 0.6786 - accuracy: 0.5469 - val_loss: 0.6914 - val_accuracy: 0.5000\n",
            "Epoch 13/50\n",
            "2/2 [==============================] - 0s 49ms/step - loss: 0.6658 - accuracy: 0.5469 - val_loss: 0.6936 - val_accuracy: 0.5000\n",
            "Epoch 14/50\n",
            "2/2 [==============================] - 0s 44ms/step - loss: 0.6407 - accuracy: 0.6562 - val_loss: 0.6962 - val_accuracy: 0.5000\n",
            "Epoch 15/50\n",
            "2/2 [==============================] - 0s 71ms/step - loss: 0.6568 - accuracy: 0.5938 - val_loss: 0.6990 - val_accuracy: 0.5000\n",
            "Epoch 16/50\n",
            "2/2 [==============================] - 0s 70ms/step - loss: 0.6378 - accuracy: 0.7031 - val_loss: 0.7021 - val_accuracy: 0.5000\n",
            "Epoch 17/50\n",
            "2/2 [==============================] - 0s 63ms/step - loss: 0.6476 - accuracy: 0.6406 - val_loss: 0.7046 - val_accuracy: 0.5000\n",
            "Epoch 18/50\n",
            "2/2 [==============================] - 0s 60ms/step - loss: 0.6450 - accuracy: 0.6406 - val_loss: 0.7074 - val_accuracy: 0.5625\n",
            "Epoch 19/50\n",
            "2/2 [==============================] - 0s 56ms/step - loss: 0.6350 - accuracy: 0.6562 - val_loss: 0.7102 - val_accuracy: 0.5625\n",
            "Epoch 20/50\n",
            "2/2 [==============================] - 0s 79ms/step - loss: 0.6398 - accuracy: 0.6719 - val_loss: 0.7124 - val_accuracy: 0.5625\n",
            "Epoch 21/50\n",
            "2/2 [==============================] - 0s 64ms/step - loss: 0.6341 - accuracy: 0.6250 - val_loss: 0.7141 - val_accuracy: 0.5000\n",
            "Epoch 22/50\n",
            "2/2 [==============================] - 0s 67ms/step - loss: 0.6512 - accuracy: 0.5938 - val_loss: 0.7157 - val_accuracy: 0.5000\n",
            "Epoch 23/50\n",
            "2/2 [==============================] - 0s 64ms/step - loss: 0.6242 - accuracy: 0.6875 - val_loss: 0.7174 - val_accuracy: 0.5000\n",
            "Epoch 24/50\n",
            "2/2 [==============================] - 0s 67ms/step - loss: 0.6388 - accuracy: 0.6250 - val_loss: 0.7191 - val_accuracy: 0.5000\n",
            "Epoch 25/50\n",
            "2/2 [==============================] - 0s 61ms/step - loss: 0.6384 - accuracy: 0.6250 - val_loss: 0.7196 - val_accuracy: 0.5000\n",
            "Epoch 26/50\n",
            "2/2 [==============================] - 0s 60ms/step - loss: 0.6387 - accuracy: 0.6406 - val_loss: 0.7207 - val_accuracy: 0.5000\n",
            "Epoch 27/50\n",
            "2/2 [==============================] - 0s 48ms/step - loss: 0.6366 - accuracy: 0.5938 - val_loss: 0.7216 - val_accuracy: 0.5000\n",
            "Epoch 28/50\n",
            "2/2 [==============================] - 0s 61ms/step - loss: 0.6282 - accuracy: 0.7031 - val_loss: 0.7227 - val_accuracy: 0.5000\n",
            "Epoch 29/50\n",
            "2/2 [==============================] - 0s 54ms/step - loss: 0.6211 - accuracy: 0.6406 - val_loss: 0.7239 - val_accuracy: 0.5000\n",
            "Epoch 30/50\n",
            "2/2 [==============================] - 0s 66ms/step - loss: 0.6115 - accuracy: 0.5781 - val_loss: 0.7252 - val_accuracy: 0.5000\n",
            "Epoch 31/50\n",
            "2/2 [==============================] - 0s 56ms/step - loss: 0.6258 - accuracy: 0.6406 - val_loss: 0.7268 - val_accuracy: 0.5000\n",
            "Epoch 32/50\n",
            "2/2 [==============================] - 0s 64ms/step - loss: 0.6243 - accuracy: 0.6406 - val_loss: 0.7280 - val_accuracy: 0.5000\n",
            "Epoch 33/50\n",
            "2/2 [==============================] - 0s 39ms/step - loss: 0.6335 - accuracy: 0.6562 - val_loss: 0.7293 - val_accuracy: 0.5000\n",
            "Epoch 34/50\n",
            "2/2 [==============================] - 0s 41ms/step - loss: 0.6022 - accuracy: 0.6875 - val_loss: 0.7310 - val_accuracy: 0.5000\n",
            "Epoch 35/50\n",
            "2/2 [==============================] - 0s 37ms/step - loss: 0.5999 - accuracy: 0.7188 - val_loss: 0.7325 - val_accuracy: 0.5000\n",
            "Epoch 36/50\n",
            "2/2 [==============================] - 0s 55ms/step - loss: 0.6189 - accuracy: 0.6406 - val_loss: 0.7335 - val_accuracy: 0.5000\n",
            "Epoch 37/50\n",
            "2/2 [==============================] - 0s 37ms/step - loss: 0.6135 - accuracy: 0.6875 - val_loss: 0.7353 - val_accuracy: 0.5000\n",
            "Epoch 38/50\n",
            "2/2 [==============================] - 0s 35ms/step - loss: 0.6214 - accuracy: 0.6719 - val_loss: 0.7367 - val_accuracy: 0.5000\n",
            "Epoch 39/50\n",
            "2/2 [==============================] - 0s 30ms/step - loss: 0.6056 - accuracy: 0.6562 - val_loss: 0.7379 - val_accuracy: 0.5000\n",
            "Epoch 40/50\n",
            "2/2 [==============================] - 0s 47ms/step - loss: 0.6078 - accuracy: 0.7031 - val_loss: 0.7392 - val_accuracy: 0.5000\n",
            "Epoch 41/50\n",
            "2/2 [==============================] - 0s 48ms/step - loss: 0.5875 - accuracy: 0.7031 - val_loss: 0.7414 - val_accuracy: 0.5000\n",
            "Epoch 42/50\n",
            "2/2 [==============================] - 0s 31ms/step - loss: 0.6415 - accuracy: 0.6250 - val_loss: 0.7430 - val_accuracy: 0.5000\n",
            "Epoch 43/50\n",
            "2/2 [==============================] - 0s 32ms/step - loss: 0.5988 - accuracy: 0.6562 - val_loss: 0.7443 - val_accuracy: 0.5000\n",
            "Epoch 44/50\n",
            "2/2 [==============================] - 0s 37ms/step - loss: 0.6013 - accuracy: 0.6719 - val_loss: 0.7456 - val_accuracy: 0.5000\n",
            "Epoch 45/50\n",
            "2/2 [==============================] - 0s 32ms/step - loss: 0.6068 - accuracy: 0.6719 - val_loss: 0.7473 - val_accuracy: 0.5000\n",
            "Epoch 46/50\n",
            "2/2 [==============================] - 0s 30ms/step - loss: 0.6124 - accuracy: 0.6719 - val_loss: 0.7482 - val_accuracy: 0.5000\n",
            "Epoch 47/50\n",
            "2/2 [==============================] - 0s 33ms/step - loss: 0.5943 - accuracy: 0.7031 - val_loss: 0.7481 - val_accuracy: 0.5000\n",
            "Epoch 48/50\n",
            "2/2 [==============================] - 0s 31ms/step - loss: 0.6021 - accuracy: 0.6250 - val_loss: 0.7495 - val_accuracy: 0.5000\n",
            "Epoch 49/50\n",
            "2/2 [==============================] - 0s 33ms/step - loss: 0.5789 - accuracy: 0.7344 - val_loss: 0.7507 - val_accuracy: 0.5000\n",
            "Epoch 50/50\n",
            "2/2 [==============================] - 0s 30ms/step - loss: 0.5974 - accuracy: 0.6562 - val_loss: 0.7518 - val_accuracy: 0.5000\n",
            "1/1 [==============================] - 0s 96ms/step\n",
            "Accuracy: 0.50\n",
            "              precision    recall  f1-score   support\n",
            "\n",
            "           0       0.62      0.50      0.56        10\n",
            "           1       0.38      0.50      0.43         6\n",
            "\n",
            "    accuracy                           0.50        16\n",
            "   macro avg       0.50      0.50      0.49        16\n",
            "weighted avg       0.53      0.50      0.51        16\n",
            "\n",
            "Confusion Matrix:\n",
            "[[5 5]\n",
            " [3 3]]\n"
          ]
        }
      ]
    },
    {
      "cell_type": "code",
      "source": [
        "import pandas as pd\n",
        "df=pd.read_csv(\"trial.csv\")"
      ],
      "metadata": {
        "id": "VJUVS5oEYLsK"
      },
      "execution_count": null,
      "outputs": []
    },
    {
      "cell_type": "code",
      "source": [
        "X = df.drop('issue', axis=1)  # Features: cpu_usage, memory_usage, disk_usage, network_usage\n",
        "y = df['issue']  # Target: issue\n"
      ],
      "metadata": {
        "id": "qq9maUshZP05"
      },
      "execution_count": null,
      "outputs": []
    },
    {
      "cell_type": "code",
      "source": [
        "import tensorflow as tf\n",
        "from tensorflow.keras.models import Sequential\n",
        "from tensorflow.keras.layers import Dense, Conv2D, Flatten, MaxPooling2D\n",
        "from sklearn.model_selection import train_test_split\n",
        "import numpy as np\n"
      ],
      "metadata": {
        "id": "SRukVtXPZUuZ"
      },
      "execution_count": null,
      "outputs": []
    },
    {
      "cell_type": "code",
      "source": [
        "# Convert the DataFrame to a NumPy array first\n",
        "X_array = X.values\n",
        "\n",
        "# Reshape the NumPy array\n",
        "X_reshaped = X_array.reshape(-1, 4, 1, 1)  # reshape to (samples, features, height, width)\n",
        "\n",
        "# Now proceed with the train-test split using the reshaped array\n",
        "X_train, X_test, y_train, y_test = train_test_split(X_reshaped, y, test_size=0.2, random_state=42)"
      ],
      "metadata": {
        "id": "EXiQ2L9DZuGi"
      },
      "execution_count": null,
      "outputs": []
    },
    {
      "cell_type": "code",
      "source": [
        "# Initialize the model\n",
        "model = Sequential()\n",
        "\n",
        "# Add Convolutional layers\n",
        "model.add(Conv2D(32, kernel_size=(1, 1), activation='relu', input_shape=X_train.shape[1:]))\n",
        "model.add(MaxPooling2D(pool_size=(1, 1)))\n",
        "\n",
        "# Add Flatten layer to convert 2D matrix to 1D vector\n",
        "model.add(Flatten())\n",
        "\n",
        "# Add Dense layers\n",
        "model.add(Dense(64, activation='relu'))\n",
        "model.add(Dense(1, activation='sigmoid'))  # Sigmoid activation for binary classification\n",
        "\n",
        "# Compile the model\n",
        "model.compile(optimizer='adam', loss='binary_crossentropy', metrics=['accuracy'])\n",
        "\n",
        "# Print model summary\n",
        "model.summary()\n"
      ],
      "metadata": {
        "colab": {
          "base_uri": "https://localhost:8080/"
        },
        "id": "YzMh_lwgaCDH",
        "outputId": "091fb06b-3233-47f8-e52b-7aa003ed81be"
      },
      "execution_count": null,
      "outputs": [
        {
          "output_type": "stream",
          "name": "stdout",
          "text": [
            "Model: \"sequential_1\"\n",
            "_________________________________________________________________\n",
            " Layer (type)                Output Shape              Param #   \n",
            "=================================================================\n",
            " conv2d (Conv2D)             (None, 4, 1, 32)          64        \n",
            "                                                                 \n",
            " max_pooling2d (MaxPooling2  (None, 4, 1, 32)          0         \n",
            " D)                                                              \n",
            "                                                                 \n",
            " flatten (Flatten)           (None, 128)               0         \n",
            "                                                                 \n",
            " dense_3 (Dense)             (None, 64)                8256      \n",
            "                                                                 \n",
            " dense_4 (Dense)             (None, 1)                 65        \n",
            "                                                                 \n",
            "=================================================================\n",
            "Total params: 8385 (32.75 KB)\n",
            "Trainable params: 8385 (32.75 KB)\n",
            "Non-trainable params: 0 (0.00 Byte)\n",
            "_________________________________________________________________\n"
          ]
        }
      ]
    },
    {
      "cell_type": "code",
      "source": [
        "# Train the model\n",
        "history = model.fit(X_train, y_train, epochs=50, batch_size=32, validation_data=(X_test, y_test))\n"
      ],
      "metadata": {
        "colab": {
          "base_uri": "https://localhost:8080/"
        },
        "id": "afDzpQNLaKZE",
        "outputId": "5d5e4f01-fbed-41a6-b571-c51c600a36c2"
      },
      "execution_count": null,
      "outputs": [
        {
          "output_type": "stream",
          "name": "stdout",
          "text": [
            "Epoch 1/50\n",
            "2/2 [==============================] - 1s 203ms/step - loss: 1.8484 - accuracy: 0.5156 - val_loss: 0.6522 - val_accuracy: 0.6250\n",
            "Epoch 2/50\n",
            "2/2 [==============================] - 0s 49ms/step - loss: 1.1159 - accuracy: 0.5469 - val_loss: 0.9068 - val_accuracy: 0.6250\n",
            "Epoch 3/50\n",
            "2/2 [==============================] - 0s 31ms/step - loss: 1.0998 - accuracy: 0.5781 - val_loss: 0.7495 - val_accuracy: 0.4375\n",
            "Epoch 4/50\n",
            "2/2 [==============================] - 0s 31ms/step - loss: 0.6390 - accuracy: 0.5938 - val_loss: 1.3236 - val_accuracy: 0.4375\n",
            "Epoch 5/50\n",
            "2/2 [==============================] - 0s 31ms/step - loss: 0.8479 - accuracy: 0.5781 - val_loss: 1.2620 - val_accuracy: 0.3750\n",
            "Epoch 6/50\n",
            "2/2 [==============================] - 0s 31ms/step - loss: 0.6998 - accuracy: 0.6250 - val_loss: 0.8745 - val_accuracy: 0.5625\n",
            "Epoch 7/50\n",
            "2/2 [==============================] - 0s 32ms/step - loss: 0.6398 - accuracy: 0.5625 - val_loss: 0.9018 - val_accuracy: 0.6250\n",
            "Epoch 8/50\n",
            "2/2 [==============================] - 0s 54ms/step - loss: 0.7310 - accuracy: 0.5781 - val_loss: 0.9057 - val_accuracy: 0.5000\n",
            "Epoch 9/50\n",
            "2/2 [==============================] - 0s 59ms/step - loss: 0.6202 - accuracy: 0.6406 - val_loss: 1.0402 - val_accuracy: 0.2500\n",
            "Epoch 10/50\n",
            "2/2 [==============================] - 0s 35ms/step - loss: 0.6301 - accuracy: 0.5781 - val_loss: 1.1627 - val_accuracy: 0.3125\n",
            "Epoch 11/50\n",
            "2/2 [==============================] - 0s 33ms/step - loss: 0.6559 - accuracy: 0.5781 - val_loss: 1.0058 - val_accuracy: 0.2500\n",
            "Epoch 12/50\n",
            "2/2 [==============================] - 0s 49ms/step - loss: 0.5889 - accuracy: 0.6719 - val_loss: 0.8543 - val_accuracy: 0.5625\n",
            "Epoch 13/50\n",
            "2/2 [==============================] - 0s 33ms/step - loss: 0.6281 - accuracy: 0.5938 - val_loss: 0.8349 - val_accuracy: 0.6250\n",
            "Epoch 14/50\n",
            "2/2 [==============================] - 0s 39ms/step - loss: 0.6190 - accuracy: 0.5938 - val_loss: 0.9140 - val_accuracy: 0.3750\n",
            "Epoch 15/50\n",
            "2/2 [==============================] - 0s 38ms/step - loss: 0.5801 - accuracy: 0.6562 - val_loss: 1.0153 - val_accuracy: 0.3125\n",
            "Epoch 16/50\n",
            "2/2 [==============================] - 0s 32ms/step - loss: 0.6019 - accuracy: 0.6250 - val_loss: 1.0448 - val_accuracy: 0.2500\n",
            "Epoch 17/50\n",
            "2/2 [==============================] - 0s 31ms/step - loss: 0.5928 - accuracy: 0.6406 - val_loss: 0.9249 - val_accuracy: 0.3125\n",
            "Epoch 18/50\n",
            "2/2 [==============================] - 0s 49ms/step - loss: 0.5773 - accuracy: 0.7031 - val_loss: 0.8910 - val_accuracy: 0.4375\n",
            "Epoch 19/50\n",
            "2/2 [==============================] - 0s 32ms/step - loss: 0.5973 - accuracy: 0.6094 - val_loss: 0.8997 - val_accuracy: 0.3750\n",
            "Epoch 20/50\n",
            "2/2 [==============================] - 0s 31ms/step - loss: 0.5724 - accuracy: 0.6875 - val_loss: 0.9723 - val_accuracy: 0.2500\n",
            "Epoch 21/50\n",
            "2/2 [==============================] - 0s 32ms/step - loss: 0.5713 - accuracy: 0.7188 - val_loss: 1.0558 - val_accuracy: 0.2500\n",
            "Epoch 22/50\n",
            "2/2 [==============================] - 0s 32ms/step - loss: 0.5964 - accuracy: 0.5938 - val_loss: 0.9791 - val_accuracy: 0.2500\n",
            "Epoch 23/50\n",
            "2/2 [==============================] - 0s 32ms/step - loss: 0.5739 - accuracy: 0.6719 - val_loss: 0.9282 - val_accuracy: 0.3125\n",
            "Epoch 24/50\n",
            "2/2 [==============================] - 0s 32ms/step - loss: 0.5674 - accuracy: 0.6875 - val_loss: 0.9374 - val_accuracy: 0.3125\n",
            "Epoch 25/50\n",
            "2/2 [==============================] - 0s 31ms/step - loss: 0.5672 - accuracy: 0.6875 - val_loss: 0.9652 - val_accuracy: 0.2500\n",
            "Epoch 26/50\n",
            "2/2 [==============================] - 0s 32ms/step - loss: 0.5641 - accuracy: 0.6875 - val_loss: 0.9826 - val_accuracy: 0.2500\n",
            "Epoch 27/50\n",
            "2/2 [==============================] - 0s 35ms/step - loss: 0.5641 - accuracy: 0.6875 - val_loss: 0.9797 - val_accuracy: 0.2500\n",
            "Epoch 28/50\n",
            "2/2 [==============================] - 0s 34ms/step - loss: 0.5702 - accuracy: 0.7031 - val_loss: 0.9571 - val_accuracy: 0.3750\n",
            "Epoch 29/50\n",
            "2/2 [==============================] - 0s 39ms/step - loss: 0.5643 - accuracy: 0.6719 - val_loss: 0.9928 - val_accuracy: 0.2500\n",
            "Epoch 30/50\n",
            "2/2 [==============================] - 0s 58ms/step - loss: 0.5692 - accuracy: 0.6406 - val_loss: 1.0206 - val_accuracy: 0.2500\n",
            "Epoch 31/50\n",
            "2/2 [==============================] - 0s 41ms/step - loss: 0.5679 - accuracy: 0.6719 - val_loss: 0.9955 - val_accuracy: 0.2500\n",
            "Epoch 32/50\n",
            "2/2 [==============================] - 0s 62ms/step - loss: 0.5604 - accuracy: 0.6875 - val_loss: 0.9503 - val_accuracy: 0.3125\n",
            "Epoch 33/50\n",
            "2/2 [==============================] - 0s 63ms/step - loss: 0.5731 - accuracy: 0.7031 - val_loss: 0.9521 - val_accuracy: 0.2500\n",
            "Epoch 34/50\n",
            "2/2 [==============================] - 0s 54ms/step - loss: 0.5663 - accuracy: 0.6875 - val_loss: 0.9968 - val_accuracy: 0.2500\n",
            "Epoch 35/50\n",
            "2/2 [==============================] - 0s 44ms/step - loss: 0.5684 - accuracy: 0.6719 - val_loss: 1.0650 - val_accuracy: 0.2500\n",
            "Epoch 36/50\n",
            "2/2 [==============================] - 0s 40ms/step - loss: 0.5763 - accuracy: 0.6094 - val_loss: 0.9843 - val_accuracy: 0.3125\n",
            "Epoch 37/50\n",
            "2/2 [==============================] - 0s 51ms/step - loss: 0.5631 - accuracy: 0.6875 - val_loss: 0.9734 - val_accuracy: 0.3750\n",
            "Epoch 38/50\n",
            "2/2 [==============================] - 0s 51ms/step - loss: 0.5723 - accuracy: 0.7031 - val_loss: 0.9603 - val_accuracy: 0.3750\n",
            "Epoch 39/50\n",
            "2/2 [==============================] - 0s 37ms/step - loss: 0.5640 - accuracy: 0.7031 - val_loss: 1.0260 - val_accuracy: 0.2500\n",
            "Epoch 40/50\n",
            "2/2 [==============================] - 0s 34ms/step - loss: 0.5732 - accuracy: 0.6406 - val_loss: 1.0575 - val_accuracy: 0.2500\n",
            "Epoch 41/50\n",
            "2/2 [==============================] - 0s 32ms/step - loss: 0.5648 - accuracy: 0.6562 - val_loss: 0.9877 - val_accuracy: 0.2500\n",
            "Epoch 42/50\n",
            "2/2 [==============================] - 0s 33ms/step - loss: 0.5636 - accuracy: 0.6562 - val_loss: 0.9436 - val_accuracy: 0.3750\n",
            "Epoch 43/50\n",
            "2/2 [==============================] - 0s 32ms/step - loss: 0.5704 - accuracy: 0.6875 - val_loss: 0.9839 - val_accuracy: 0.2500\n",
            "Epoch 44/50\n",
            "2/2 [==============================] - 0s 32ms/step - loss: 0.5608 - accuracy: 0.7031 - val_loss: 1.0515 - val_accuracy: 0.2500\n",
            "Epoch 45/50\n",
            "2/2 [==============================] - 0s 50ms/step - loss: 0.5657 - accuracy: 0.6562 - val_loss: 1.1001 - val_accuracy: 0.2500\n",
            "Epoch 46/50\n",
            "2/2 [==============================] - 0s 31ms/step - loss: 0.5681 - accuracy: 0.6562 - val_loss: 1.0113 - val_accuracy: 0.2500\n",
            "Epoch 47/50\n",
            "2/2 [==============================] - 0s 35ms/step - loss: 0.5600 - accuracy: 0.7188 - val_loss: 0.9523 - val_accuracy: 0.3750\n",
            "Epoch 48/50\n",
            "2/2 [==============================] - 0s 58ms/step - loss: 0.5671 - accuracy: 0.6875 - val_loss: 0.9940 - val_accuracy: 0.2500\n",
            "Epoch 49/50\n",
            "2/2 [==============================] - 0s 58ms/step - loss: 0.5578 - accuracy: 0.6875 - val_loss: 1.0246 - val_accuracy: 0.2500\n",
            "Epoch 50/50\n",
            "2/2 [==============================] - 0s 58ms/step - loss: 0.5580 - accuracy: 0.6875 - val_loss: 1.0411 - val_accuracy: 0.2500\n"
          ]
        }
      ]
    },
    {
      "cell_type": "code",
      "source": [
        "# Evaluate the model\n",
        "loss, accuracy = model.evaluate(X_test, y_test)\n",
        "print(f\"Test Accuracy: {accuracy:.4f}\")\n"
      ],
      "metadata": {
        "colab": {
          "base_uri": "https://localhost:8080/"
        },
        "id": "MAXSVueWaPce",
        "outputId": "d1837c6d-cbbc-42e8-8d8b-6e9ab2c10088"
      },
      "execution_count": null,
      "outputs": [
        {
          "output_type": "stream",
          "name": "stdout",
          "text": [
            "1/1 [==============================] - 0s 42ms/step - loss: 1.0411 - accuracy: 0.2500\n",
            "Test Accuracy: 0.2500\n"
          ]
        }
      ]
    },
    {
      "cell_type": "code",
      "source": [
        "predictions = model.predict(X_test)\n"
      ],
      "metadata": {
        "colab": {
          "base_uri": "https://localhost:8080/"
        },
        "id": "NS52KMEaaUAG",
        "outputId": "549507c0-fcb5-41ab-a58f-35b9cd853a0a"
      },
      "execution_count": null,
      "outputs": [
        {
          "output_type": "stream",
          "name": "stdout",
          "text": [
            "1/1 [==============================] - 0s 89ms/step\n"
          ]
        }
      ]
    },
    {
      "cell_type": "code",
      "source": [
        "# Make predictions on test data\n",
        "predictions = model.predict(X_test)\n",
        "\n",
        "# Convert predictions to binary classes (0 or 1)\n",
        "predicted_classes = (predictions > 0.5).astype(int)\n",
        "\n",
        "# Compare predicted classes with actual classes\n",
        "results = pd.DataFrame({'Actual': y_test, 'Predicted': predicted_classes.flatten()})\n",
        "print(results)\n"
      ],
      "metadata": {
        "colab": {
          "base_uri": "https://localhost:8080/"
        },
        "id": "QsozI0nda1eq",
        "outputId": "dfe3bbe5-b4d7-4008-f3c0-b0ed14d25a10"
      },
      "execution_count": null,
      "outputs": [
        {
          "output_type": "stream",
          "name": "stdout",
          "text": [
            "1/1 [==============================] - 0s 37ms/step\n",
            "    Actual  Predicted\n",
            "30       0          1\n",
            "0        0          0\n",
            "22       0          1\n",
            "31       1          1\n",
            "18       0          1\n",
            "28       0          1\n",
            "10       0          1\n",
            "70       0          1\n",
            "4        0          1\n",
            "12       0          1\n",
            "49       1          0\n",
            "33       1          0\n",
            "67       1          1\n",
            "35       1          1\n",
            "68       0          1\n",
            "45       1          0\n"
          ]
        }
      ]
    },
    {
      "cell_type": "code",
      "source": [
        "# Print issues identified based on predictions\n",
        "for index, row in results.iterrows():\n",
        "    if row['Predicted'] == 1:\n",
        "        print(f\"Network issue identified for sample {index}: {row['Actual']}\")\n",
        "    else:\n",
        "        print(f\"No network issue identified for sample {index}: {row['Actual']}\")\n"
      ],
      "metadata": {
        "colab": {
          "base_uri": "https://localhost:8080/"
        },
        "collapsed": true,
        "id": "RV0qTDr9a4UZ",
        "outputId": "8d2a6df0-d92e-4a65-f42c-57392f837c52"
      },
      "execution_count": null,
      "outputs": [
        {
          "output_type": "stream",
          "name": "stdout",
          "text": [
            "Network issue identified for sample 30: 0\n",
            "No network issue identified for sample 0: 0\n",
            "Network issue identified for sample 22: 0\n",
            "Network issue identified for sample 31: 1\n",
            "Network issue identified for sample 18: 0\n",
            "Network issue identified for sample 28: 0\n",
            "Network issue identified for sample 10: 0\n",
            "Network issue identified for sample 70: 0\n",
            "Network issue identified for sample 4: 0\n",
            "Network issue identified for sample 12: 0\n",
            "No network issue identified for sample 49: 1\n",
            "No network issue identified for sample 33: 1\n",
            "Network issue identified for sample 67: 1\n",
            "Network issue identified for sample 35: 1\n",
            "Network issue identified for sample 68: 0\n",
            "No network issue identified for sample 45: 1\n"
          ]
        }
      ]
    },
    {
      "cell_type": "code",
      "source": [
        "import pandas as pd\n",
        "import plotly.express as px\n",
        "\n",
        "# Example data (replace with your actual data)\n",
        "results = pd.DataFrame({\n",
        "    'Actual': ['Sample 1', 'Sample 2', 'Sample 3', 'Sample 4', 'Sample 5'],\n",
        "    'Predicted': [1, 0, 1, 1, 0]\n",
        "})\n",
        "\n",
        "# Print issues identified based on predictions\n",
        "for index, row in results.iterrows():\n",
        "    if row['Predicted'] == 1:\n",
        "        print(f\"Network issue identified for sample {index}: {row['Actual']}\")\n",
        "    else:\n",
        "        print(f\"No network issue identified for sample {index}: {row['Actual']}\")\n",
        "\n",
        "# Count the issues\n",
        "issue_counts = results['Predicted'].value_counts()\n",
        "\n",
        "# Plotting the pie chart using Plotly\n",
        "fig = px.pie(values=issue_counts, names=['No Issue', 'Issue'], title='Issues Identified Based on Predictions')\n",
        "fig.show()\n"
      ],
      "metadata": {
        "colab": {
          "base_uri": "https://localhost:8080/",
          "height": 629
        },
        "id": "irkera1L5V6g",
        "outputId": "fbd8aa8a-dc2c-44c3-d50b-893b97c76e07"
      },
      "execution_count": null,
      "outputs": [
        {
          "output_type": "stream",
          "name": "stdout",
          "text": [
            "Network issue identified for sample 0: Sample 1\n",
            "No network issue identified for sample 1: Sample 2\n",
            "Network issue identified for sample 2: Sample 3\n",
            "Network issue identified for sample 3: Sample 4\n",
            "No network issue identified for sample 4: Sample 5\n"
          ]
        },
        {
          "output_type": "display_data",
          "data": {
            "text/html": [
              "<html>\n",
              "<head><meta charset=\"utf-8\" /></head>\n",
              "<body>\n",
              "    <div>            <script src=\"https://cdnjs.cloudflare.com/ajax/libs/mathjax/2.7.5/MathJax.js?config=TeX-AMS-MML_SVG\"></script><script type=\"text/javascript\">if (window.MathJax && window.MathJax.Hub && window.MathJax.Hub.Config) {window.MathJax.Hub.Config({SVG: {font: \"STIX-Web\"}});}</script>                <script type=\"text/javascript\">window.PlotlyConfig = {MathJaxConfig: 'local'};</script>\n",
              "        <script charset=\"utf-8\" src=\"https://cdn.plot.ly/plotly-2.24.1.min.js\"></script>                <div id=\"f65ec22d-e917-4cb1-affd-b0cd6dd35b9f\" class=\"plotly-graph-div\" style=\"height:525px; width:100%;\"></div>            <script type=\"text/javascript\">                                    window.PLOTLYENV=window.PLOTLYENV || {};                                    if (document.getElementById(\"f65ec22d-e917-4cb1-affd-b0cd6dd35b9f\")) {                    Plotly.newPlot(                        \"f65ec22d-e917-4cb1-affd-b0cd6dd35b9f\",                        [{\"domain\":{\"x\":[0.0,1.0],\"y\":[0.0,1.0]},\"hovertemplate\":\"label=%{label}\\u003cbr\\u003evalue=%{value}\\u003cextra\\u003e\\u003c\\u002fextra\\u003e\",\"labels\":[\"No Issue\",\"Issue\"],\"legendgroup\":\"\",\"name\":\"\",\"showlegend\":true,\"values\":[3,2],\"type\":\"pie\"}],                        {\"template\":{\"data\":{\"histogram2dcontour\":[{\"type\":\"histogram2dcontour\",\"colorbar\":{\"outlinewidth\":0,\"ticks\":\"\"},\"colorscale\":[[0.0,\"#0d0887\"],[0.1111111111111111,\"#46039f\"],[0.2222222222222222,\"#7201a8\"],[0.3333333333333333,\"#9c179e\"],[0.4444444444444444,\"#bd3786\"],[0.5555555555555556,\"#d8576b\"],[0.6666666666666666,\"#ed7953\"],[0.7777777777777778,\"#fb9f3a\"],[0.8888888888888888,\"#fdca26\"],[1.0,\"#f0f921\"]]}],\"choropleth\":[{\"type\":\"choropleth\",\"colorbar\":{\"outlinewidth\":0,\"ticks\":\"\"}}],\"histogram2d\":[{\"type\":\"histogram2d\",\"colorbar\":{\"outlinewidth\":0,\"ticks\":\"\"},\"colorscale\":[[0.0,\"#0d0887\"],[0.1111111111111111,\"#46039f\"],[0.2222222222222222,\"#7201a8\"],[0.3333333333333333,\"#9c179e\"],[0.4444444444444444,\"#bd3786\"],[0.5555555555555556,\"#d8576b\"],[0.6666666666666666,\"#ed7953\"],[0.7777777777777778,\"#fb9f3a\"],[0.8888888888888888,\"#fdca26\"],[1.0,\"#f0f921\"]]}],\"heatmap\":[{\"type\":\"heatmap\",\"colorbar\":{\"outlinewidth\":0,\"ticks\":\"\"},\"colorscale\":[[0.0,\"#0d0887\"],[0.1111111111111111,\"#46039f\"],[0.2222222222222222,\"#7201a8\"],[0.3333333333333333,\"#9c179e\"],[0.4444444444444444,\"#bd3786\"],[0.5555555555555556,\"#d8576b\"],[0.6666666666666666,\"#ed7953\"],[0.7777777777777778,\"#fb9f3a\"],[0.8888888888888888,\"#fdca26\"],[1.0,\"#f0f921\"]]}],\"heatmapgl\":[{\"type\":\"heatmapgl\",\"colorbar\":{\"outlinewidth\":0,\"ticks\":\"\"},\"colorscale\":[[0.0,\"#0d0887\"],[0.1111111111111111,\"#46039f\"],[0.2222222222222222,\"#7201a8\"],[0.3333333333333333,\"#9c179e\"],[0.4444444444444444,\"#bd3786\"],[0.5555555555555556,\"#d8576b\"],[0.6666666666666666,\"#ed7953\"],[0.7777777777777778,\"#fb9f3a\"],[0.8888888888888888,\"#fdca26\"],[1.0,\"#f0f921\"]]}],\"contourcarpet\":[{\"type\":\"contourcarpet\",\"colorbar\":{\"outlinewidth\":0,\"ticks\":\"\"}}],\"contour\":[{\"type\":\"contour\",\"colorbar\":{\"outlinewidth\":0,\"ticks\":\"\"},\"colorscale\":[[0.0,\"#0d0887\"],[0.1111111111111111,\"#46039f\"],[0.2222222222222222,\"#7201a8\"],[0.3333333333333333,\"#9c179e\"],[0.4444444444444444,\"#bd3786\"],[0.5555555555555556,\"#d8576b\"],[0.6666666666666666,\"#ed7953\"],[0.7777777777777778,\"#fb9f3a\"],[0.8888888888888888,\"#fdca26\"],[1.0,\"#f0f921\"]]}],\"surface\":[{\"type\":\"surface\",\"colorbar\":{\"outlinewidth\":0,\"ticks\":\"\"},\"colorscale\":[[0.0,\"#0d0887\"],[0.1111111111111111,\"#46039f\"],[0.2222222222222222,\"#7201a8\"],[0.3333333333333333,\"#9c179e\"],[0.4444444444444444,\"#bd3786\"],[0.5555555555555556,\"#d8576b\"],[0.6666666666666666,\"#ed7953\"],[0.7777777777777778,\"#fb9f3a\"],[0.8888888888888888,\"#fdca26\"],[1.0,\"#f0f921\"]]}],\"mesh3d\":[{\"type\":\"mesh3d\",\"colorbar\":{\"outlinewidth\":0,\"ticks\":\"\"}}],\"scatter\":[{\"fillpattern\":{\"fillmode\":\"overlay\",\"size\":10,\"solidity\":0.2},\"type\":\"scatter\"}],\"parcoords\":[{\"type\":\"parcoords\",\"line\":{\"colorbar\":{\"outlinewidth\":0,\"ticks\":\"\"}}}],\"scatterpolargl\":[{\"type\":\"scatterpolargl\",\"marker\":{\"colorbar\":{\"outlinewidth\":0,\"ticks\":\"\"}}}],\"bar\":[{\"error_x\":{\"color\":\"#2a3f5f\"},\"error_y\":{\"color\":\"#2a3f5f\"},\"marker\":{\"line\":{\"color\":\"#E5ECF6\",\"width\":0.5},\"pattern\":{\"fillmode\":\"overlay\",\"size\":10,\"solidity\":0.2}},\"type\":\"bar\"}],\"scattergeo\":[{\"type\":\"scattergeo\",\"marker\":{\"colorbar\":{\"outlinewidth\":0,\"ticks\":\"\"}}}],\"scatterpolar\":[{\"type\":\"scatterpolar\",\"marker\":{\"colorbar\":{\"outlinewidth\":0,\"ticks\":\"\"}}}],\"histogram\":[{\"marker\":{\"pattern\":{\"fillmode\":\"overlay\",\"size\":10,\"solidity\":0.2}},\"type\":\"histogram\"}],\"scattergl\":[{\"type\":\"scattergl\",\"marker\":{\"colorbar\":{\"outlinewidth\":0,\"ticks\":\"\"}}}],\"scatter3d\":[{\"type\":\"scatter3d\",\"line\":{\"colorbar\":{\"outlinewidth\":0,\"ticks\":\"\"}},\"marker\":{\"colorbar\":{\"outlinewidth\":0,\"ticks\":\"\"}}}],\"scattermapbox\":[{\"type\":\"scattermapbox\",\"marker\":{\"colorbar\":{\"outlinewidth\":0,\"ticks\":\"\"}}}],\"scatterternary\":[{\"type\":\"scatterternary\",\"marker\":{\"colorbar\":{\"outlinewidth\":0,\"ticks\":\"\"}}}],\"scattercarpet\":[{\"type\":\"scattercarpet\",\"marker\":{\"colorbar\":{\"outlinewidth\":0,\"ticks\":\"\"}}}],\"carpet\":[{\"aaxis\":{\"endlinecolor\":\"#2a3f5f\",\"gridcolor\":\"white\",\"linecolor\":\"white\",\"minorgridcolor\":\"white\",\"startlinecolor\":\"#2a3f5f\"},\"baxis\":{\"endlinecolor\":\"#2a3f5f\",\"gridcolor\":\"white\",\"linecolor\":\"white\",\"minorgridcolor\":\"white\",\"startlinecolor\":\"#2a3f5f\"},\"type\":\"carpet\"}],\"table\":[{\"cells\":{\"fill\":{\"color\":\"#EBF0F8\"},\"line\":{\"color\":\"white\"}},\"header\":{\"fill\":{\"color\":\"#C8D4E3\"},\"line\":{\"color\":\"white\"}},\"type\":\"table\"}],\"barpolar\":[{\"marker\":{\"line\":{\"color\":\"#E5ECF6\",\"width\":0.5},\"pattern\":{\"fillmode\":\"overlay\",\"size\":10,\"solidity\":0.2}},\"type\":\"barpolar\"}],\"pie\":[{\"automargin\":true,\"type\":\"pie\"}]},\"layout\":{\"autotypenumbers\":\"strict\",\"colorway\":[\"#636efa\",\"#EF553B\",\"#00cc96\",\"#ab63fa\",\"#FFA15A\",\"#19d3f3\",\"#FF6692\",\"#B6E880\",\"#FF97FF\",\"#FECB52\"],\"font\":{\"color\":\"#2a3f5f\"},\"hovermode\":\"closest\",\"hoverlabel\":{\"align\":\"left\"},\"paper_bgcolor\":\"white\",\"plot_bgcolor\":\"#E5ECF6\",\"polar\":{\"bgcolor\":\"#E5ECF6\",\"angularaxis\":{\"gridcolor\":\"white\",\"linecolor\":\"white\",\"ticks\":\"\"},\"radialaxis\":{\"gridcolor\":\"white\",\"linecolor\":\"white\",\"ticks\":\"\"}},\"ternary\":{\"bgcolor\":\"#E5ECF6\",\"aaxis\":{\"gridcolor\":\"white\",\"linecolor\":\"white\",\"ticks\":\"\"},\"baxis\":{\"gridcolor\":\"white\",\"linecolor\":\"white\",\"ticks\":\"\"},\"caxis\":{\"gridcolor\":\"white\",\"linecolor\":\"white\",\"ticks\":\"\"}},\"coloraxis\":{\"colorbar\":{\"outlinewidth\":0,\"ticks\":\"\"}},\"colorscale\":{\"sequential\":[[0.0,\"#0d0887\"],[0.1111111111111111,\"#46039f\"],[0.2222222222222222,\"#7201a8\"],[0.3333333333333333,\"#9c179e\"],[0.4444444444444444,\"#bd3786\"],[0.5555555555555556,\"#d8576b\"],[0.6666666666666666,\"#ed7953\"],[0.7777777777777778,\"#fb9f3a\"],[0.8888888888888888,\"#fdca26\"],[1.0,\"#f0f921\"]],\"sequentialminus\":[[0.0,\"#0d0887\"],[0.1111111111111111,\"#46039f\"],[0.2222222222222222,\"#7201a8\"],[0.3333333333333333,\"#9c179e\"],[0.4444444444444444,\"#bd3786\"],[0.5555555555555556,\"#d8576b\"],[0.6666666666666666,\"#ed7953\"],[0.7777777777777778,\"#fb9f3a\"],[0.8888888888888888,\"#fdca26\"],[1.0,\"#f0f921\"]],\"diverging\":[[0,\"#8e0152\"],[0.1,\"#c51b7d\"],[0.2,\"#de77ae\"],[0.3,\"#f1b6da\"],[0.4,\"#fde0ef\"],[0.5,\"#f7f7f7\"],[0.6,\"#e6f5d0\"],[0.7,\"#b8e186\"],[0.8,\"#7fbc41\"],[0.9,\"#4d9221\"],[1,\"#276419\"]]},\"xaxis\":{\"gridcolor\":\"white\",\"linecolor\":\"white\",\"ticks\":\"\",\"title\":{\"standoff\":15},\"zerolinecolor\":\"white\",\"automargin\":true,\"zerolinewidth\":2},\"yaxis\":{\"gridcolor\":\"white\",\"linecolor\":\"white\",\"ticks\":\"\",\"title\":{\"standoff\":15},\"zerolinecolor\":\"white\",\"automargin\":true,\"zerolinewidth\":2},\"scene\":{\"xaxis\":{\"backgroundcolor\":\"#E5ECF6\",\"gridcolor\":\"white\",\"linecolor\":\"white\",\"showbackground\":true,\"ticks\":\"\",\"zerolinecolor\":\"white\",\"gridwidth\":2},\"yaxis\":{\"backgroundcolor\":\"#E5ECF6\",\"gridcolor\":\"white\",\"linecolor\":\"white\",\"showbackground\":true,\"ticks\":\"\",\"zerolinecolor\":\"white\",\"gridwidth\":2},\"zaxis\":{\"backgroundcolor\":\"#E5ECF6\",\"gridcolor\":\"white\",\"linecolor\":\"white\",\"showbackground\":true,\"ticks\":\"\",\"zerolinecolor\":\"white\",\"gridwidth\":2}},\"shapedefaults\":{\"line\":{\"color\":\"#2a3f5f\"}},\"annotationdefaults\":{\"arrowcolor\":\"#2a3f5f\",\"arrowhead\":0,\"arrowwidth\":1},\"geo\":{\"bgcolor\":\"white\",\"landcolor\":\"#E5ECF6\",\"subunitcolor\":\"white\",\"showland\":true,\"showlakes\":true,\"lakecolor\":\"white\"},\"title\":{\"x\":0.05},\"mapbox\":{\"style\":\"light\"}}},\"legend\":{\"tracegroupgap\":0},\"title\":{\"text\":\"Issues Identified Based on Predictions\"}},                        {\"responsive\": true}                    ).then(function(){\n",
              "                            \n",
              "var gd = document.getElementById('f65ec22d-e917-4cb1-affd-b0cd6dd35b9f');\n",
              "var x = new MutationObserver(function (mutations, observer) {{\n",
              "        var display = window.getComputedStyle(gd).display;\n",
              "        if (!display || display === 'none') {{\n",
              "            console.log([gd, 'removed!']);\n",
              "            Plotly.purge(gd);\n",
              "            observer.disconnect();\n",
              "        }}\n",
              "}});\n",
              "\n",
              "// Listen for the removal of the full notebook cells\n",
              "var notebookContainer = gd.closest('#notebook-container');\n",
              "if (notebookContainer) {{\n",
              "    x.observe(notebookContainer, {childList: true});\n",
              "}}\n",
              "\n",
              "// Listen for the clearing of the current output cell\n",
              "var outputEl = gd.closest('.output');\n",
              "if (outputEl) {{\n",
              "    x.observe(outputEl, {childList: true});\n",
              "}}\n",
              "\n",
              "                        })                };                            </script>        </div>\n",
              "</body>\n",
              "</html>"
            ]
          },
          "metadata": {}
        }
      ]
    }
  ]
}